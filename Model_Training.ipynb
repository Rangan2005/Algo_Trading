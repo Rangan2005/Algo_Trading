{
  "nbformat": 4,
  "nbformat_minor": 0,
  "metadata": {
    "colab": {
      "provenance": []
    },
    "kernelspec": {
      "name": "python3",
      "display_name": "Python 3"
    },
    "language_info": {
      "name": "python"
    }
  },
  "cells": [
    {
      "cell_type": "code",
      "source": [
        "!pip install ta"
      ],
      "metadata": {
        "colab": {
          "base_uri": "https://localhost:8080/"
        },
        "id": "4AkGqFUZn-Dz",
        "outputId": "4a95f0ce-f391-4763-b861-dbd63958040c"
      },
      "execution_count": 3,
      "outputs": [
        {
          "output_type": "stream",
          "name": "stdout",
          "text": [
            "Collecting ta\n",
            "  Downloading ta-0.11.0.tar.gz (25 kB)\n",
            "  Preparing metadata (setup.py) ... \u001b[?25l\u001b[?25hdone\n",
            "Requirement already satisfied: numpy in /usr/local/lib/python3.11/dist-packages (from ta) (2.0.2)\n",
            "Requirement already satisfied: pandas in /usr/local/lib/python3.11/dist-packages (from ta) (2.2.2)\n",
            "Requirement already satisfied: python-dateutil>=2.8.2 in /usr/local/lib/python3.11/dist-packages (from pandas->ta) (2.9.0.post0)\n",
            "Requirement already satisfied: pytz>=2020.1 in /usr/local/lib/python3.11/dist-packages (from pandas->ta) (2025.2)\n",
            "Requirement already satisfied: tzdata>=2022.7 in /usr/local/lib/python3.11/dist-packages (from pandas->ta) (2025.2)\n",
            "Requirement already satisfied: six>=1.5 in /usr/local/lib/python3.11/dist-packages (from python-dateutil>=2.8.2->pandas->ta) (1.17.0)\n",
            "Building wheels for collected packages: ta\n",
            "  Building wheel for ta (setup.py) ... \u001b[?25l\u001b[?25hdone\n",
            "  Created wheel for ta: filename=ta-0.11.0-py3-none-any.whl size=29412 sha256=04c230b201096557f3f125a9e739bc4f004f4c16cc31d48e59b95e645bdd11e6\n",
            "  Stored in directory: /root/.cache/pip/wheels/a1/d7/29/7781cc5eb9a3659d032d7d15bdd0f49d07d2b24fec29f44bc4\n",
            "Successfully built ta\n",
            "Installing collected packages: ta\n",
            "Successfully installed ta-0.11.0\n"
          ]
        }
      ]
    },
    {
      "cell_type": "code",
      "source": [
        "import yfinance as yf\n",
        "import pandas as pd\n",
        "from ta.momentum import RSIIndicator\n",
        "from ta.trend import SMAIndicator, MACD\n",
        "import pandas as pd\n",
        "from sklearn.model_selection import train_test_split\n",
        "from sklearn.tree import DecisionTreeClassifier\n",
        "from sklearn.metrics import accuracy_score\n",
        "from sklearn.preprocessing import StandardScaler\n",
        "import joblib"
      ],
      "metadata": {
        "id": "Kphq2OgmDN2A"
      },
      "execution_count": 89,
      "outputs": []
    },
    {
      "cell_type": "code",
      "source": [
        "def fetch_stock_data(ticker, period, interval):\n",
        "    df = yf.download(ticker, period=period, interval=interval, group_by='ticker', auto_adjust=True)\n",
        "    if ticker in df.columns.get_level_values(0):\n",
        "        df = df[ticker].copy()\n",
        "    else:\n",
        "        df = df.loc[:, pd.IndexSlice[:, ticker]].copy()\n",
        "        df.columns = df.columns.droplevel(1)\n",
        "    return df"
      ],
      "metadata": {
        "id": "fP62NNDZfKs1"
      },
      "execution_count": 95,
      "outputs": []
    },
    {
      "cell_type": "code",
      "source": [
        "tickers = ['RELIANCE.NS','ITC.NS','TCS.NS']"
      ],
      "metadata": {
        "id": "vvBNbfHE_Md1"
      },
      "execution_count": 96,
      "outputs": []
    },
    {
      "cell_type": "code",
      "source": [
        "results = []\n",
        "for ticker in tickers:\n",
        "    df = fetch_stock_data(ticker, period='6mo', interval='1d').copy()\n",
        "\n",
        "    # Computing indicators\n",
        "    df['RSI'] = RSIIndicator(df['Close'], window=14).rsi()\n",
        "    df['SMA20'] = SMAIndicator(df['Close'], window=20).sma_indicator()\n",
        "    df['SMA50'] = SMAIndicator(df['Close'], window=50).sma_indicator()\n",
        "    macd = MACD(df['Close'], window_slow=26, window_fast=12, window_sign=9)\n",
        "    df['MACD'] = macd.macd()\n",
        "    df['MACD_Signal'] = macd.macd_signal()\n",
        "    df = df.dropna(subset=['RSI','SMA20','SMA50','MACD','MACD_Signal','Volume']).copy()\n",
        "\n",
        "    # Create target\n",
        "    df.loc[:, 'target'] = (df['Close'].shift(-1) > df['Close']).astype(int)\n",
        "    df = df.iloc[:-1]\n",
        "\n",
        "    # 5) features and labels\n",
        "    features = ['RSI', 'SMA20', 'SMA50', 'MACD', 'MACD_Signal', 'Volume']\n",
        "    X = df[features]\n",
        "    y = df['target']\n",
        "\n",
        "    # Scale and split\n",
        "    scaler = StandardScaler()\n",
        "    X_scaled = scaler.fit_transform(X)\n",
        "    X_train, X_test, y_train, y_test = train_test_split(X_scaled, y, test_size=0.2, shuffle=False)\n",
        "\n",
        "    # Train, evaluate, save\n",
        "    model = DecisionTreeClassifier(random_state=42)\n",
        "    model.fit(X_train, y_train)\n",
        "    pred = model.predict(X_test)\n",
        "    acc = accuracy_score(y_test, pred)\n",
        "    results.append((ticker, acc))\n",
        "    joblib.dump(model, f'{ticker}_model.joblib')\n",
        "    joblib.dump(scaler, f'{ticker}_scaler.joblib')\n",
        "\n",
        "# 8) Results\n",
        "for ticker, accuracy in results:\n",
        "    print(f\"\\nAccuracy for {ticker}: {accuracy:.4f}\")"
      ],
      "metadata": {
        "colab": {
          "base_uri": "https://localhost:8080/"
        },
        "id": "IzfgDElHE0O3",
        "outputId": "3dfb142a-8380-47f7-971f-18d81d7e58f8"
      },
      "execution_count": 97,
      "outputs": [
        {
          "output_type": "stream",
          "name": "stderr",
          "text": [
            "[*********************100%***********************]  1 of 1 completed\n",
            "[*********************100%***********************]  1 of 1 completed\n",
            "[*********************100%***********************]  1 of 1 completed"
          ]
        },
        {
          "output_type": "stream",
          "name": "stdout",
          "text": [
            "\n",
            "Accuracy for RELIANCE.NS: 0.4667\n",
            "\n",
            "Accuracy for ITC.NS: 0.6667\n",
            "\n",
            "Accuracy for TCS.NS: 0.4667\n"
          ]
        },
        {
          "output_type": "stream",
          "name": "stderr",
          "text": [
            "\n"
          ]
        }
      ]
    },
    {
      "cell_type": "code",
      "source": [],
      "metadata": {
        "id": "SdRoaiTvxIlP"
      },
      "execution_count": null,
      "outputs": []
    }
  ]
}